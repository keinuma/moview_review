{
 "cells": [
  {
   "cell_type": "markdown",
   "metadata": {},
   "source": [
    "# GCPを用いた日本語感情分析\n",
    "## 英語から日本語への翻訳"
   ]
  },
  {
   "cell_type": "code",
   "execution_count": 1,
   "metadata": {},
   "outputs": [],
   "source": [
    "from google.cloud import translate"
   ]
  },
  {
   "cell_type": "code",
   "execution_count": 2,
   "metadata": {},
   "outputs": [],
   "source": [
    "client = translate.Client()"
   ]
  },
  {
   "cell_type": "code",
   "execution_count": 3,
   "metadata": {},
   "outputs": [],
   "source": [
    "text = \"Hello world !\"\n",
    "target = \"ja\""
   ]
  },
  {
   "cell_type": "code",
   "execution_count": 4,
   "metadata": {},
   "outputs": [],
   "source": [
    "translation = client.translate(text, target_language=target)"
   ]
  },
  {
   "cell_type": "code",
   "execution_count": 5,
   "metadata": {},
   "outputs": [
    {
     "data": {
      "text/plain": [
       "{'detectedSourceLanguage': 'en',\n",
       " 'input': 'Hello world !',\n",
       " 'translatedText': 'こんにちは世界 ！'}"
      ]
     },
     "execution_count": 5,
     "metadata": {},
     "output_type": "execute_result"
    }
   ],
   "source": [
    "translation"
   ]
  },
  {
   "cell_type": "code",
   "execution_count": 27,
   "metadata": {},
   "outputs": [],
   "source": [
    "text2 = \"ストーリーはよかったけど、演技はだめ\"\n",
    "target2 = \"en\""
   ]
  },
  {
   "cell_type": "code",
   "execution_count": 28,
   "metadata": {},
   "outputs": [],
   "source": [
    "translation2 = client.translate(text2, target2)"
   ]
  },
  {
   "cell_type": "code",
   "execution_count": 29,
   "metadata": {},
   "outputs": [
    {
     "data": {
      "text/plain": [
       "{'detectedSourceLanguage': 'ja',\n",
       " 'input': 'ストーリーはよかったけど、演技はだめ',\n",
       " 'translatedText': 'The story was nice, but acting was useless'}"
      ]
     },
     "execution_count": 29,
     "metadata": {},
     "output_type": "execute_result"
    }
   ],
   "source": [
    "translation2"
   ]
  },
  {
   "cell_type": "markdown",
   "metadata": {},
   "source": [
    "## 英語の感情分析\n"
   ]
  },
  {
   "cell_type": "code",
   "execution_count": 30,
   "metadata": {},
   "outputs": [],
   "source": [
    "from google.cloud import language"
   ]
  },
  {
   "cell_type": "code",
   "execution_count": 31,
   "metadata": {},
   "outputs": [],
   "source": [
    "client_lan = language.LanguageServiceClient()"
   ]
  },
  {
   "cell_type": "code",
   "execution_count": 32,
   "metadata": {},
   "outputs": [],
   "source": [
    "document = language.types.Document(content=translation2[\"translatedText\"], language=\"en\", type=\"PLAIN_TEXT\")"
   ]
  },
  {
   "cell_type": "code",
   "execution_count": 33,
   "metadata": {},
   "outputs": [
    {
     "data": {
      "text/plain": [
       "type: PLAIN_TEXT\n",
       "content: \"The story was nice, but acting was useless\"\n",
       "language: \"en\""
      ]
     },
     "execution_count": 33,
     "metadata": {},
     "output_type": "execute_result"
    }
   ],
   "source": [
    "document"
   ]
  },
  {
   "cell_type": "code",
   "execution_count": 34,
   "metadata": {},
   "outputs": [],
   "source": [
    "response = client_lan.analyze_entity_sentiment(document=document)"
   ]
  },
  {
   "cell_type": "code",
   "execution_count": 53,
   "metadata": {},
   "outputs": [
    {
     "data": {
      "text/plain": [
       "[name: \"story\"\n",
       "type: WORK_OF_ART\n",
       "salience: 0.8772229552268982\n",
       "mentions {\n",
       "  text {\n",
       "    content: \"story\"\n",
       "    begin_offset: -1\n",
       "  }\n",
       "  type: COMMON\n",
       "  sentiment {\n",
       "    magnitude: 0.8999999761581421\n",
       "    score: 0.8999999761581421\n",
       "  }\n",
       "}\n",
       "sentiment {\n",
       "  magnitude: 0.8999999761581421\n",
       "  score: 0.8999999761581421\n",
       "}\n",
       ", name: \"acting\"\n",
       "type: OTHER\n",
       "salience: 0.1227770522236824\n",
       "mentions {\n",
       "  text {\n",
       "    content: \"acting\"\n",
       "    begin_offset: -1\n",
       "  }\n",
       "  type: COMMON\n",
       "  sentiment {\n",
       "    magnitude: 0.8999999761581421\n",
       "    score: -0.8999999761581421\n",
       "  }\n",
       "}\n",
       "sentiment {\n",
       "  magnitude: 0.8999999761581421\n",
       "  score: -0.8999999761581421\n",
       "}\n",
       "]"
      ]
     },
     "execution_count": 53,
     "metadata": {},
     "output_type": "execute_result"
    }
   ],
   "source": [
    "data = response.entities\n",
    "data"
   ]
  },
  {
   "cell_type": "code",
   "execution_count": 52,
   "metadata": {},
   "outputs": [
    {
     "data": {
      "text/plain": [
       "name: \"story\"\n",
       "type: WORK_OF_ART\n",
       "salience: 0.8772229552268982\n",
       "mentions {\n",
       "  text {\n",
       "    content: \"story\"\n",
       "    begin_offset: -1\n",
       "  }\n",
       "  type: COMMON\n",
       "  sentiment {\n",
       "    magnitude: 0.8999999761581421\n",
       "    score: 0.8999999761581421\n",
       "  }\n",
       "}\n",
       "sentiment {\n",
       "  magnitude: 0.8999999761581421\n",
       "  score: 0.8999999761581421\n",
       "}"
      ]
     },
     "execution_count": 52,
     "metadata": {},
     "output_type": "execute_result"
    }
   ],
   "source": [
    "story = data[0]\n",
    "story"
   ]
  },
  {
   "cell_type": "markdown",
   "metadata": {},
   "source": [
    "## 解析"
   ]
  },
  {
   "cell_type": "code",
   "execution_count": 1,
   "metadata": {},
   "outputs": [],
   "source": [
    "import gcloud_nltk"
   ]
  },
  {
   "cell_type": "code",
   "execution_count": 2,
   "metadata": {},
   "outputs": [
    {
     "ename": "LengthRequired",
     "evalue": "411 POST https://translation.googleapis.com/language/translate/v2?target=en&q=%E3%81%9D%E3%82%93%E3%81%AA%E3%81%AB%E3%83%8A%E3%83%81%E3%82%B9%E3%81%8C%E6%86%8E%E3%81%84%E3%81%8B%E3%81%AD%EF%BC%9F%E3%81%A8%E3%81%84%E3%81%86%E3%81%AE%E3%81%8C%E3%81%BE%E3%81%9A%E5%A4%A7%E3%81%8D%E3%81%AA%E6%84%9F%E6%83%B3%E3%81%A7%E3%81%82%E3%82%8B%E3%80%82%E3%81%93%E3%82%93%E3%81%AA%E3%83%80%E3%83%A1%E6%98%A0%E7%94%BB%E3%82%92%E5%89%B5%E3%82%8B%E3%81%A8%E3%81%AF%EF%BC%81%E3%83%AA%E3%83%A5%E3%83%83%E3%82%AF%E3%83%BB%E3%83%99%E3%83%83%E3%82%BD%E3%83%B3%E3%82%82%E5%9C%B0%E3%81%AB%E5%A0%95%E3%81%A1%E3%81%9F%E3%82%82%E3%81%AE%E3%81%A0%EF%BC%81%E6%88%A6%E5%BE%8C%E3%81%AE%E6%88%A6%E5%8B%9D%E5%9B%BD%E5%8F%B2%E8%A6%B3%E3%81%A7%E3%81%AF%E3%81%A8%E3%81%AB%E3%81%8B%E3%81%8F%E3%83%8A%E3%83%81%E3%82%B9%E3%81%A8%E6%97%A5%E6%9C%AC%E3%81%AF%E6%82%AA%E3%81%8F%E6%8F%8F%E3%81%8B%E3%81%AA%E3%81%91%E3%82%8C%E3%81%B0%E8%87%AA%E5%88%86%E3%81%9F%E3%81%A1%E3%81%AE%E6%AD%A3%E5%BD%93%E6%80%A7%E3%81%8C%E5%B4%A9%E3%82%8C%E3%81%A6%E3%81%97%E3%81%BE%E3%81%86%E3%81%AE%E3%81%AF%E3%82%88%E3%81%8F%E3%82%8F%E3%81%8B%E3%82%8B%E3%81%8C%E3%80%81%E3%81%93%E3%81%93%E6%95%B0%E5%B9%B4%E3%81%AE%E3%83%8A%E3%83%81%E3%82%B9%E6%98%A0%E7%94%BB%E3%81%AE%E6%80%A5%E5%A2%97%E3%81%AF%E7%89%B9%E3%81%AB%E9%85%B7%E3%81%84%E3%80%82%E3%81%95%E3%82%8A%E3%81%92%E3%81%AA%E3%81%8F%E3%81%A0%E3%82%8D%E3%81%86%E3%81%8C%E3%80%81%E3%81%82%E3%81%8B%E3%82%89%E3%81%95%E3%81%BE%E3%81%A0%E3%82%8D%E3%81%86%E3%81%8C%E3%80%81%E3%83%8A%E3%83%81%E3%82%B9%E3%81%AF%E5%BE%B9%E5%BA%95%E7%9A%84%E3%81%AA%E6%82%AA%E3%81%A8%E3%81%97%E3%81%A6%E6%8F%8F%E3%81%8B%E3%82%8C%E3%82%8B%E6%98%A0%E7%94%BB%E3%82%92%E6%98%A0%E7%94%BB%E9%A4%A8%E3%81%A7%E8%A6%B3%E3%81%AA%E3%81%84%E6%9C%88%E3%81%8C%E3%81%AA%E3%81%84%E3%81%BB%E3%81%A9%E3%81%A0%E3%80%82%E3%83%8A%E3%83%81%E3%82%B9%E3%81%AE%E8%B2%A1%E5%AE%9D%E3%82%92%E9%9A%A0%E3%81%97%E3%81%9F%E6%9D%91%E3%81%AE%E4%BD%8F%E4%BA%BA%E3%82%92%E6%A3%AE%E3%81%AB%E9%80%A3%E3%82%8C%E3%81%A6%E8%A1%8C%E3%81%A3%E3%81%A6%E7%9A%86%E6%AE%BA%E3%81%97%E3%81%AB%E3%81%99%E3%82%8B%E3%82%B7%E3%83%BC%E3%83%B3%E3%81%8C%E3%81%82%E3%82%8B%E3%80%82%E3%81%95%E3%81%99%E3%81%8C%E3%81%AB%E6%9C%AC%E4%BD%9C%E3%81%AF%E5%A8%AF%E6%A5%BD%E4%BD%9C%E5%93%81%E3%81%AA%E3%81%AE%E3%81%A7%E7%9B%B4%E6%8E%A5%E7%9A%84%E3%81%AA%E8%99%90%E6%AE%BA%E3%81%AE%E6%8F%8F%E5%86%99%E3%81%AF%E9%81%BF%E3%81%91%E3%81%9F%E3%81%8C%E3%80%81%E4%BD%8F%E6%B0%91%E3%81%AE%E6%82%B2%E9%B3%B4%E3%81%A8%E6%A9%9F%E9%96%A2%E9%8A%83%E3%81%AE%E9%9F%B3%E3%80%81%E6%A3%AE%E3%81%AE%E6%9C%A8%E3%80%85%E3%81%8B%E3%82%89%E6%BC%8F%E3%82%8C%E3%82%8B%E5%85%89%E3%81%A7%E3%81%82%E3%81%8B%E3%82%89%E3%81%95%E3%81%BE%E3%81%AB%E3%81%9D%E3%82%8C%E3%81%8C%E3%82%8F%E3%81%8B%E3%82%8B%E3%82%88%E3%81%86%E3%81%AB%E3%81%AA%E3%81%A3%E3%81%A6%E3%81%84%E3%82%8B%E3%80%82%E8%BF%91%E5%B9%B4%E5%8F%8D%E3%83%8A%E3%83%81%E3%82%B9%E6%98%A0%E7%94%BB%E3%81%8C%E5%A4%9A%E3%81%84%E7%90%86%E7%94%B1%E3%82%92%E3%81%B5%E3%81%A8%E8%80%83%E3%81%88%E3%82%8B%E3%80%82%E3%81%82%E3%81%BE%E3%82%8A%E7%9F%A5%E3%82%89%E3%82%8C%E3%81%A6%E3%81%84%E3%81%AA%E3%81%84%E3%81%8C%E3%83%89%E3%82%A4%E3%83%84%E3%81%AE%E3%83%9E%E3%82%B9%E3%82%B3%E3%83%9F%E3%81%AF%E7%B5%90%E6%A7%8B%E5%B7%A6%E5%B7%BB%E3%81%8D%E3%81%A7%E3%81%82%E3%82%8B%E3%80%82%E3%81%9D%E3%81%97%E3%81%A6%E7%A7%BB%E6%B0%91%E3%82%92%E5%88%B6%E9%99%90%E3%81%97%E3%82%88%E3%81%86%E3%81%A8%E3%81%99%E3%82%8B%E6%94%BF%E5%85%9A%E3%80%8C%E3%83%89%E3%82%A4%E3%83%84%E3%81%AE%E3%81%9F%E3%82%81%E3%81%AE%E9%81%B8%E6%8A%9E%E8%82%A2%E3%80%8D%E3%81%AF%E3%80%8C%E3%83%8A%E3%83%81%E3%82%B9%E3%80%8D%E5%91%BC%E3%81%B0%E3%82%8F%E3%82%8A%E3%81%A7%E3%81%82%E3%82%8B%E3%80%82%E3%81%9F%E3%81%A0%E5%BD%BC%E3%82%89%E3%81%AB%E3%81%A8%E3%81%A3%E3%81%A6%E3%81%AF%E6%AE%8B%E5%BF%B5%E3%81%AA%E3%81%93%E3%81%A8%E3%81%AB%E3%81%93%E3%81%AE%E6%94%BF%E5%85%9A%E3%81%8C%E8%BF%91%E5%B9%B4%E6%94%AF%E6%8C%81%E7%8E%87%E3%82%92%E4%BC%B8%E3%81%B0%E3%81%97%E3%81%A6%E3%81%84%E3%82%8B%E3%80%82%E3%81%A4%E3%81%BE%E3%82%8A%E3%83%9E%E3%82%B9%E3%82%B3%E3%83%9F%E3%81%AE%E8%AB%96%E8%AA%BF%E3%81%A8%E4%B8%80%E8%88%AC%E5%A4%A7%E8%A1%86%E3%81%AE%E6%84%8F%E8%A6%8B%E3%81%8C%E4%B9%96%E9%9B%A2%E3%81%97%E5%A7%8B%E3%82%81%E3%81%A6%E3%81%84%E3%82%8B%E3%80%82%E3%81%BE%E3%82%8B%E3%81%A7%E6%88%91%E3%81%8C%E5%9B%BD%E3%81%A8%E4%BC%BC%E3%81%9F%E3%82%88%E3%81%86%E3%81%AA%E7%8F%BE%E8%B1%A1%E3%81%A7%E3%81%82%E3%82%8B%E3%80%82%E3%81%9D%E3%81%97%E3%81%A6%E3%81%93%E3%81%AE%E3%83%89%E3%82%A4%E3%83%84%E6%B0%91%E8%A1%86%E3%81%AE%E7%9B%AE%E8%A6%9A%E3%82%81%E3%81%AB%E5%8D%B1%E6%A9%9F%E6%84%9F%E3%82%92%E6%8A%B1%E3%81%84%E3%81%A6%E3%81%84%E3%82%8B%E8%B3%87%E6%9C%AC%E5%AE%B6%E3%81%9F%E3%81%A1%E3%81%8C%E3%83%8F%E3%83%AA%E3%82%A6%E3%83%83%E3%83%89%E3%82%84%E6%AC%A7%E7%B1%B3%E3%81%AE%E6%98%A0%E7%94%BB%E6%A5%AD%E7%95%8C%E3%81%AB%E8%B3%87%E9%87%91%E6%8F%90%E4%BE%9B%E3%81%97%E3%81%A6%E3%81%93%E3%81%AE%E6%89%8B%E3%81%AE%E6%98%A0%E7%94%BB%E3%82%92%E5%88%B6%E4%BD%9C%E3%81%95%E3%81%9B%E3%81%A6%E3%81%84%E3%82%8B%E3%81%AE%E3%81%A7%E3%81%AF%E3%81%AA%E3%81%84%E3%81%8B%EF%BC%9F%E3%81%A8%E3%81%84%E3%81%86%E3%81%AE%E3%81%8C%E7%AD%86%E8%80%85%E3%81%AE%E8%A6%8B%E7%AB%8B%E3%81%A6%E3%81%A7%E3%81%82%E3%82%8B%E3%80%8220%E4%B8%96%E7%B4%80%E3%81%AB%E5%85%A5%E3%81%A3%E3%81%A6%E3%81%8B%E3%82%89%EF%BC%92%E5%BA%A6%E3%82%82%E6%88%A6%E4%BA%89%E3%82%92%E8%B5%B7%E3%81%93%E3%81%99%E5%9B%BD%E5%8A%9B%E3%81%8C%E3%81%82%E3%82%8A%E3%80%81%E4%BA%8C%E6%AC%A1%E5%A4%A7%E6%88%A6%E5%BE%8C%E3%82%82%E3%83%A8%E3%83%BC%E3%83%AD%E3%83%83%E3%83%91%E3%81%A7%E4%B8%80%E7%95%AA%E7%B5%8C%E6%B8%88%E5%8A%9B%E3%81%8C%E3%81%82%E3%82%8B%E3%81%AE%E3%81%AF%E7%B5%90%E5%B1%80%E3%83%89%E3%82%A4%E3%83%84%E3%81%A7%E3%81%82%E3%82%8B%E3%80%82%E3%81%82%E3%82%8B%E6%84%8F%E5%91%B3EU%E3%81%A8%E3%81%84%E3%81%86%E7%B5%84%E7%B9%94%E3%81%AF%E3%81%9D%E3%82%93%E3%81%AA%E3%83%89%E3%82%A4%E3%83%84%E3%82%92%E5%B0%81%E3%81%98%E8%BE%BC%E3%82%81%E3%82%8B%E3%81%9F%E3%82%81%E3%81%AE%E6%89%8B%E6%AE%B5%E3%81%A7%E3%81%82%E3%82%8B%E3%80%82%E3%82%A4%E3%82%AE%E3%83%AA%E3%82%B9%E3%81%AEEU%E9%9B%A2%E8%84%B1%E3%81%AB%E5%A7%8B%E3%81%BE%E3%82%8AEU%E8%87%AA%E4%BD%93%E3%81%AE%E5%AD%98%E7%B6%9A%E3%82%82%E5%8D%B1%E3%81%B6%E3%81%BE%E3%82%8C%E3%82%8B%E6%98%A8%E4%BB%8A%E3%81%A8%E3%81%AB%E3%81%8B%E3%81%8F%E3%83%89%E3%82%A4%E3%83%84%E3%82%92%E5%B0%81%E3%81%98%E8%BE%BC%E3%82%81%E3%81%9F%E3%81%84%E3%81%AE%E3%81%A0%E3%82%8D%E3%81%86%E3%80%82%E6%9C%AC%E4%BD%9C%E3%81%AF%E3%83%89%E3%82%A4%E3%83%84%E8%87%AA%E4%BD%93%E3%81%A7%E3%81%AF%E4%B8%8A%E6%98%A0%E3%81%95%E3%82%8C%E3%81%A6%E3%81%84%E3%81%AA%E3%81%84%E5%8F%AF%E8%83%BD%E6%80%A7%E3%82%82%E9%AB%98%E3%81%84%E3%81%AE%E3%81%A7%E3%80%81%E3%81%9D%E3%82%8C%E4%BB%A5%E5%A4%96%E3%81%AE%E5%9B%BD%E3%81%AB%E3%83%89%E3%82%A4%E3%83%84%E3%81%AF%E3%81%8B%E3%81%A4%E3%81%A6%E6%82%AA%E3%81%84%E3%81%93%E3%81%A8%E3%82%92%E3%81%97%E3%81%9F%E3%81%A8%E5%90%B9%E3%81%8D%E8%BE%BC%E3%81%BF%E3%81%9F%E3%81%84%E3%81%AE%E3%81%A0%E3%80%82%E3%81%9D%E3%81%97%E3%81%A6%E3%81%93%E3%81%93%E3%81%8C%E9%87%8D%E8%A6%81%E3%81%AA%E3%81%AE%E3%81%A0%E3%81%8C%E3%80%81%E6%9C%80%E7%B5%82%E7%9A%84%E3%81%AB%E3%81%AF%E3%82%A2%E3%83%A1%E3%83%AA%E3%82%AB%E6%A7%98%E3%81%8C%E8%A7%A3%E6%B1%BA%E3%81%97%E3%81%A6%E3%81%82%E3%81%92%E3%82%8B%E3%81%AE%E3%81%A7%E3%81%82%E3%82%8B%E3%80%82%E6%9E%B6%E7%A9%BA%E3%81%AE%E5%A8%AF%E6%A5%BD%E4%BD%9C%E5%93%81%E3%81%A8%E3%81%AF%E8%A8%80%E3%81%88%E3%80%81%E4%B8%8A%E8%A8%98%E3%81%AE%E4%B8%80%E9%80%A3%E3%81%AE%E5%88%B7%E3%82%8A%E8%BE%BC%E3%81%BF%E3%81%AB%E3%81%AF%E6%B0%97%E3%82%92%E3%81%A4%E3%81%91%E3%81%9F%E6%96%B9%E3%81%8C%E8%89%AF%E3%81%84%E3%80%82%E3%81%AA%E3%81%8A%E6%97%A5%E6%9C%AC%E3%81%A7%E3%81%AF%E4%B8%8A%E6%98%A0%E3%81%95%E3%82%8C%E3%81%AA%E3%81%84%E3%81%9F%E3%82%81%E3%81%AB%E6%88%91%E3%80%85%E3%81%8C%E7%9F%A5%E3%82%89%E3%81%AA%E3%81%84%E3%81%A0%E3%81%91%E3%81%A7%E3%80%81%E3%83%81%E3%83%A3%E3%82%A4%E3%83%8A%E8%B3%87%E6%9C%AC%E3%81%A8%E7%B5%90%E8%A8%97%E3%81%97%E3%81%A6%E6%97%A5%E6%9C%AC%E3%82%92%E6%82%AA%E8%80%85%E3%81%AB%E3%81%97%E3%81%9F%E6%98%A0%E7%94%BB%E3%81%8C%E3%83%8F%E3%83%AA%E3%82%A6%E3%83%83%E3%83%89%E3%81%A7%E5%A2%97%E3%81%88%E3%81%A6%E3%81%84%E3%82%8B%E5%8F%AF%E8%83%BD%E6%80%A7%E3%82%82%E3%81%82%E3%82%8B%E3%80%82%E3%82%82%E3%81%A1%E3%82%8D%E3%82%93%E3%83%81%E3%83%A3%E3%82%A4%E3%83%8A%E3%81%A8%E9%9F%93%E5%9B%BD%E3%81%A7%E3%81%AF%E5%8F%8D%E6%97%A5%E6%98%A0%E7%94%BB%E3%81%AF%E5%89%B5%E3%82%89%E3%82%8C%E7%B6%9A%E3%81%91%E3%81%A6%E3%81%84%E3%82%8B%E3%81%8C%E3%80%81%E3%81%93%E3%82%8C%E3%82%82%E5%BD%BC%E3%82%89%E3%81%8C%E7%84%A6%E3%81%A3%E3%81%A6%E3%81%84%E3%82%8B%E3%81%A8%E8%A6%8B%E3%82%8B%E3%81%93%E3%81%A8%E3%82%82%E3%81%A7%E3%81%8D%E3%82%8B%E3%80%82%E6%97%A5%E6%9C%AC%E4%BA%BA%E3%81%8C%E6%88%A6%E5%BE%8C%E5%8F%B2%E8%A6%B3%E3%81%8B%E3%82%89%E7%9B%AE%E8%A6%9A%E3%82%81%E3%81%A4%E3%81%A4%E3%81%82%E3%82%8A%E3%80%81%E4%BB%A5%E5%89%8D%E3%81%AE%E3%82%88%E3%81%86%E3%81%AB%E3%81%B8%E3%81%84%E3%81%93%E3%82%89%E3%81%A8%E9%A0%AD%E3%82%92%E4%B8%8B%E3%81%92%E3%81%AA%E3%81%8F%E3%81%AA%E3%82%8A%E3%80%81%E5%A0%B4%E5%90%88%E3%81%AB%E3%82%88%E3%81%A3%E3%81%A6%E3%81%AF%E5%8F%8D%E8%AB%96%E3%81%97%E5%87%BA%E3%81%97%E3%81%A6%E3%81%84%E3%82%8B%E3%80%82%E6%AE%8B%E5%BF%B5%E3%81%AA%E3%81%8C%E3%82%89%E5%BD%BC%E3%82%89%E3%81%AF%E3%81%93%E3%82%8C%E3%81%8B%E3%82%89%E3%81%AF%E3%82%82%E3%81%A3%E3%81%A8%E7%84%A6%E3%82%8B%E3%81%93%E3%81%A8%E3%81%AB%E3%81%AA%E3%82%8B%E3%81%A0%E3%82%8D%E3%81%86%E3%81%91%E3%81%A9%E3%81%AD%E3%80%82%E3%81%BE%E3%81%9F%E6%9C%AC%E4%BD%9C%E3%81%AF%E6%95%B5%E3%81%AF%E3%82%BB%E3%83%AB%E3%83%93%E3%82%A2%E8%BB%8D%E3%81%A7%E3%81%82%E3%82%8A%E3%80%81%E3%83%8A%E3%83%81%E3%82%B9%E3%81%A8%E5%90%8C%E6%99%82%E3%81%AB%E3%82%BB%E3%83%AB%E3%83%93%E3%82%A2%E3%82%82%E6%82%AA%E8%80%85%E3%81%AB%E3%81%97%E3%81%A6%E3%81%84%E3%82%8B%E3%80%82%E3%83%A6%E3%83%BC%E3%82%B4%E3%82%B9%E3%83%A9%E3%83%93%E3%82%A2%E5%B4%A9%E5%A3%8A%E5%BE%8C%E3%82%A2%E3%83%A1%E3%83%AA%E3%82%AB%E3%82%92%E4%B8%AD%E5%BF%83%E3%81%A8%E3%81%97%E3%81%9FNATO%E3%81%AF%E3%82%AB%E3%82%BD%E3%83%AA%E3%83%83%E3%82%AF%E3%81%A7%E3%81%AF%E3%81%AA%E3%81%8F%E6%9D%B1%E6%96%B9%E6%95%99%E4%BC%9A%E3%81%AE%E3%82%BB%E3%83%AB%E3%83%93%E3%82%A2%E3%82%92%E3%81%95%E3%82%93%E3%81%96%E3%82%93%E3%81%AB%E3%81%84%E3%81%98%E3%82%81%E3%81%9F%E3%80%82%E3%82%80%E3%81%97%E3%82%8D%E3%82%BB%E3%83%AB%E3%83%93%E3%82%A2%E4%BA%BA%E3%81%AB%E5%AF%BE%E3%81%97%E3%81%A6%E5%A4%A7%E9%87%8F%E8%99%90%E6%AE%BA%E3%82%92%E3%82%84%E3%81%A3%E3%81%A6%E3%81%8D%E3%81%9F%E3%81%AE%E3%81%AFNATO%E5%81%B4%E3%81%A7%E3%81%82%E3%82%8A%E3%80%81%E6%9C%AC%E4%BD%9C%E3%81%AE%E6%8F%8F%E5%86%99%E3%82%82%E3%81%9D%E3%82%8C%E3%82%92%E7%9F%A5%E3%82%89%E3%82%93%E3%81%B7%E3%82%8A%E3%81%97%E3%81%A6%E3%82%BB%E3%83%AB%E3%83%93%E3%82%A2%E3%82%92%E6%82%AA%E8%80%85%E3%81%AB%E3%81%97%E3%81%9F%E3%81%84%E5%88%B7%E3%82%8A%E8%BE%BC%E3%81%BF%E3%81%A0%E3%82%8D%E3%81%86%E3%80%82%E6%98%A0%E7%94%BB%E3%81%AE%E5%86%85%E5%AE%B9%E8%87%AA%E4%BD%93%E3%81%AF%E3%81%A9%E3%81%86%E3%81%A7%E3%82%82%E3%81%84%E3%81%84%E6%98%A0%E7%94%BB%E3%81%AA%E3%81%AE%E3%81%A7%E7%89%B9%E3%81%AB%E8%AA%9E%E3%82%8B%E3%81%B9%E3%81%8D%E3%82%82%E3%81%AE%E3%81%AF%E4%BD%95%E3%82%82%E3%81%AA%E3%81%84%E3%80%82%E3%81%A0%E3%81%8B%E3%82%89%E3%81%93%E3%81%9D%E3%81%93%E3%81%AE%E6%89%8B%E3%81%AE%E6%98%A0%E7%94%BB%E3%81%AB%E5%90%AB%E3%81%BE%E3%82%8C%E3%82%8B%E5%82%B2%E6%85%A2%E3%81%AA%E6%88%A6%E5%8B%9D%E5%9B%BD%E5%8F%B2%E8%A6%B3%E3%82%84%E8%BA%AB%E5%8B%9D%E6%89%8B%E3%81%AA%E6%94%BF%E6%B2%BB%E7%9A%84%E8%A6%96%E7%82%B9%E3%81%AB%E3%81%AFNO%E3%82%92%E7%AA%81%E3%81%8D%E4%BB%98%E3%81%91%E3%81%AA%E3%81%91%E3%82%8C%E3%81%B0%E3%81%84%E3%81%91%E3%81%AA%E3%81%84%E3%80%82%E3%81%BE%E3%81%9F%E9%87%91%E3%81%AE%E3%81%9F%E3%82%81%E3%81%AF%E3%81%84%E3%81%88%E3%81%93%E3%81%86%E3%81%84%E3%81%86%E6%98%A0%E7%94%BB%E3%82%92%E5%89%B5%E3%82%8B%E5%88%B6%E4%BD%9C%E8%80%85%E3%81%9F%E3%81%A1%E3%81%AF%E6%81%A5%E3%82%92%E7%9F%A5%E3%82%8B%E3%81%B9%E3%81%8D%E3%81%A7%E3%81%82%E3%82%8B%E3%80%82%E8%BF%91%E3%81%84%E5%B0%86%E6%9D%A5%E6%88%A6%E5%8B%9D%E5%9B%BD%E5%8F%B2%E8%A6%B3%E3%82%82%E5%A3%8A%E3%82%8C%E3%82%8B%E3%81%A8%E6%80%9D%E3%81%A3%E3%81%A6%E3%81%84%E3%82%8B%E3%80%82: <!DOCTYPE html>\n<html lang=en>\n  <meta charset=utf-8>\n  <meta name=viewport content=\"initial-scale=1, minimum-scale=1, width=device-width\">\n  <title>Error 411 (Length Required)!!1</title>\n  <style>\n    *{margin:0;padding:0}html,code{font:15px/22px arial,sans-serif}html{background:#fff;color:#222;padding:15px}body{margin:7% auto 0;max-width:390px;min-height:180px;padding:30px 0 15px}* > body{background:url(//www.google.com/images/errors/robot.png) 100% 5px no-repeat;padding-right:205px}p{margin:11px 0 22px;overflow:hidden}ins{color:#777;text-decoration:none}a img{border:0}@media screen and (max-width:772px){body{background:none;margin-top:0;max-width:none;padding-right:0}}#logo{background:url(//www.google.com/images/branding/googlelogo/1x/googlelogo_color_150x54dp.png) no-repeat;margin-left:-5px}@media only screen and (min-resolution:192dpi){#logo{background:url(//www.google.com/images/branding/googlelogo/2x/googlelogo_color_150x54dp.png) no-repeat 0% 0%/100% 100%;-moz-border-image:url(//www.google.com/images/branding/googlelogo/2x/googlelogo_color_150x54dp.png) 0}}@media only screen and (-webkit-min-device-pixel-ratio:2){#logo{background:url(//www.google.com/images/branding/googlelogo/2x/googlelogo_color_150x54dp.png) no-repeat;-webkit-background-size:100% 100%}}#logo{display:inline-block;height:54px;width:150px}\n  </style>\n  <a href=//www.google.com/><span id=logo aria-label=Google></span></a>\n  <p><b>411.</b> <ins>That’s an error.</ins>\n  <p>POST requests require a <code>Content-length</code> header.  <ins>That’s all we know.</ins>\n",
     "output_type": "error",
     "traceback": [
      "\u001b[0;31m---------------------------------------------------------------------------\u001b[0m",
      "\u001b[0;31mLengthRequired\u001b[0m                            Traceback (most recent call last)",
      "\u001b[0;32m<ipython-input-2-482ef1c31ad3>\u001b[0m in \u001b[0;36m<module>\u001b[0;34m()\u001b[0m\n\u001b[0;32m----> 1\u001b[0;31m \u001b[0mdata\u001b[0m \u001b[0;34m=\u001b[0m \u001b[0mgcloud_nltk\u001b[0m\u001b[0;34m.\u001b[0m\u001b[0mmain\u001b[0m\u001b[0;34m(\u001b[0m\u001b[0;34m)\u001b[0m\u001b[0;34m\u001b[0m\u001b[0m\n\u001b[0m",
      "\u001b[0;32m~/PycharmProjects/pynltk/pymovie/analysis/gcloud_nltk.py\u001b[0m in \u001b[0;36mmain\u001b[0;34m()\u001b[0m\n\u001b[1;32m     71\u001b[0m     \u001b[0mlang_client\u001b[0m \u001b[0;34m=\u001b[0m \u001b[0mlanguage\u001b[0m\u001b[0;34m.\u001b[0m\u001b[0mLanguageServiceClient\u001b[0m\u001b[0;34m(\u001b[0m\u001b[0;34m)\u001b[0m\u001b[0;34m\u001b[0m\u001b[0m\n\u001b[1;32m     72\u001b[0m     \u001b[0;32mfor\u001b[0m \u001b[0mcode\u001b[0m\u001b[0;34m,\u001b[0m \u001b[0mcontent\u001b[0m \u001b[0;32min\u001b[0m \u001b[0mdata\u001b[0m\u001b[0;34m:\u001b[0m\u001b[0;34m\u001b[0m\u001b[0m\n\u001b[0;32m---> 73\u001b[0;31m         \u001b[0men_text\u001b[0m \u001b[0;34m=\u001b[0m \u001b[0mtranslate_review\u001b[0m\u001b[0;34m(\u001b[0m\u001b[0mtrans_client\u001b[0m\u001b[0;34m,\u001b[0m \u001b[0mcontent\u001b[0m\u001b[0;34m)\u001b[0m\u001b[0;34m\u001b[0m\u001b[0m\n\u001b[0m\u001b[1;32m     74\u001b[0m         \u001b[0manalyzed\u001b[0m \u001b[0;34m=\u001b[0m \u001b[0manalysis_review\u001b[0m\u001b[0;34m(\u001b[0m\u001b[0mlang_client\u001b[0m\u001b[0;34m,\u001b[0m \u001b[0men_text\u001b[0m\u001b[0;34m)\u001b[0m\u001b[0;34m\u001b[0m\u001b[0m\n\u001b[1;32m     75\u001b[0m         \u001b[0mresult\u001b[0m\u001b[0;34m.\u001b[0m\u001b[0mappend\u001b[0m\u001b[0;34m(\u001b[0m\u001b[0;34m(\u001b[0m\u001b[0mcode\u001b[0m\u001b[0;34m,\u001b[0m \u001b[0manalyzed\u001b[0m\u001b[0;34m)\u001b[0m\u001b[0;34m)\u001b[0m\u001b[0;34m\u001b[0m\u001b[0m\n",
      "\u001b[0;32m~/PycharmProjects/pynltk/pymovie/analysis/gcloud_nltk.py\u001b[0m in \u001b[0;36mtranslate_review\u001b[0;34m(client, jp_text)\u001b[0m\n\u001b[1;32m     32\u001b[0m     translation = client.translate(\n\u001b[1;32m     33\u001b[0m         \u001b[0mjp_text\u001b[0m\u001b[0;34m,\u001b[0m\u001b[0;34m\u001b[0m\u001b[0m\n\u001b[0;32m---> 34\u001b[0;31m         \u001b[0mtarget_language\u001b[0m\u001b[0;34m=\u001b[0m\u001b[0;34m\"en\"\u001b[0m\u001b[0;34m\u001b[0m\u001b[0m\n\u001b[0m\u001b[1;32m     35\u001b[0m     )\n\u001b[1;32m     36\u001b[0m     \u001b[0;32mreturn\u001b[0m \u001b[0mtranslation\u001b[0m\u001b[0;34m[\u001b[0m\u001b[0;34m\"translatedText\"\u001b[0m\u001b[0;34m]\u001b[0m\u001b[0;34m\u001b[0m\u001b[0m\n",
      "\u001b[0;32m~/pydev/lib/python3.6/site-packages/google/cloud/translate_v2/client.py\u001b[0m in \u001b[0;36mtranslate\u001b[0;34m(self, values, target_language, format_, source_language, customization_ids, model)\u001b[0m\n\u001b[1;32m    232\u001b[0m \u001b[0;34m\u001b[0m\u001b[0m\n\u001b[1;32m    233\u001b[0m         response = self._connection.api_request(\n\u001b[0;32m--> 234\u001b[0;31m             method='POST', path='', query_params=query_params)\n\u001b[0m\u001b[1;32m    235\u001b[0m \u001b[0;34m\u001b[0m\u001b[0m\n\u001b[1;32m    236\u001b[0m         \u001b[0mtranslations\u001b[0m \u001b[0;34m=\u001b[0m \u001b[0mresponse\u001b[0m\u001b[0;34m.\u001b[0m\u001b[0mget\u001b[0m\u001b[0;34m(\u001b[0m\u001b[0;34m'data'\u001b[0m\u001b[0;34m,\u001b[0m \u001b[0;34m{\u001b[0m\u001b[0;34m}\u001b[0m\u001b[0;34m)\u001b[0m\u001b[0;34m.\u001b[0m\u001b[0mget\u001b[0m\u001b[0;34m(\u001b[0m\u001b[0;34m'translations'\u001b[0m\u001b[0;34m,\u001b[0m \u001b[0;34m(\u001b[0m\u001b[0;34m)\u001b[0m\u001b[0;34m)\u001b[0m\u001b[0;34m\u001b[0m\u001b[0m\n",
      "\u001b[0;32m~/pydev/lib/python3.6/site-packages/google/cloud/_http.py\u001b[0m in \u001b[0;36mapi_request\u001b[0;34m(self, method, path, query_params, data, content_type, headers, api_base_url, api_version, expect_json, _target_object)\u001b[0m\n\u001b[1;32m    291\u001b[0m \u001b[0;34m\u001b[0m\u001b[0m\n\u001b[1;32m    292\u001b[0m         \u001b[0;32mif\u001b[0m \u001b[0;32mnot\u001b[0m \u001b[0;36m200\u001b[0m \u001b[0;34m<=\u001b[0m \u001b[0mresponse\u001b[0m\u001b[0;34m.\u001b[0m\u001b[0mstatus_code\u001b[0m \u001b[0;34m<\u001b[0m \u001b[0;36m300\u001b[0m\u001b[0;34m:\u001b[0m\u001b[0;34m\u001b[0m\u001b[0m\n\u001b[0;32m--> 293\u001b[0;31m             \u001b[0;32mraise\u001b[0m \u001b[0mexceptions\u001b[0m\u001b[0;34m.\u001b[0m\u001b[0mfrom_http_response\u001b[0m\u001b[0;34m(\u001b[0m\u001b[0mresponse\u001b[0m\u001b[0;34m)\u001b[0m\u001b[0;34m\u001b[0m\u001b[0m\n\u001b[0m\u001b[1;32m    294\u001b[0m \u001b[0;34m\u001b[0m\u001b[0m\n\u001b[1;32m    295\u001b[0m         \u001b[0;32mif\u001b[0m \u001b[0mexpect_json\u001b[0m \u001b[0;32mand\u001b[0m \u001b[0mresponse\u001b[0m\u001b[0;34m.\u001b[0m\u001b[0mcontent\u001b[0m\u001b[0;34m:\u001b[0m\u001b[0;34m\u001b[0m\u001b[0m\n",
      "\u001b[0;31mLengthRequired\u001b[0m: 411 POST https://translation.googleapis.com/language/translate/v2?target=en&q=%E3%81%9D%E3%82%93%E3%81%AA%E3%81%AB%E3%83%8A%E3%83%81%E3%82%B9%E3%81%8C%E6%86%8E%E3%81%84%E3%81%8B%E3%81%AD%EF%BC%9F%E3%81%A8%E3%81%84%E3%81%86%E3%81%AE%E3%81%8C%E3%81%BE%E3%81%9A%E5%A4%A7%E3%81%8D%E3%81%AA%E6%84%9F%E6%83%B3%E3%81%A7%E3%81%82%E3%82%8B%E3%80%82%E3%81%93%E3%82%93%E3%81%AA%E3%83%80%E3%83%A1%E6%98%A0%E7%94%BB%E3%82%92%E5%89%B5%E3%82%8B%E3%81%A8%E3%81%AF%EF%BC%81%E3%83%AA%E3%83%A5%E3%83%83%E3%82%AF%E3%83%BB%E3%83%99%E3%83%83%E3%82%BD%E3%83%B3%E3%82%82%E5%9C%B0%E3%81%AB%E5%A0%95%E3%81%A1%E3%81%9F%E3%82%82%E3%81%AE%E3%81%A0%EF%BC%81%E6%88%A6%E5%BE%8C%E3%81%AE%E6%88%A6%E5%8B%9D%E5%9B%BD%E5%8F%B2%E8%A6%B3%E3%81%A7%E3%81%AF%E3%81%A8%E3%81%AB%E3%81%8B%E3%81%8F%E3%83%8A%E3%83%81%E3%82%B9%E3%81%A8%E6%97%A5%E6%9C%AC%E3%81%AF%E6%82%AA%E3%81%8F%E6%8F%8F%E3%81%8B%E3%81%AA%E3%81%91%E3%82%8C%E3%81%B0%E8%87%AA%E5%88%86%E3%81%9F%E3%81%A1%E3%81%AE%E6%AD%A3%E5%BD%93%E6%80%A7%E3%81%8C%E5%B4%A9%E3%82%8C%E3%81%A6%E3%81%97%E3%81%BE%E3%81%86%E3%81%AE%E3%81%AF%E3%82%88%E3%81%8F%E3%82%8F%E3%81%8B%E3%82%8B%E3%81%8C%E3%80%81%E3%81%93%E3%81%93%E6%95%B0%E5%B9%B4%E3%81%AE%E3%83%8A%E3%83%81%E3%82%B9%E6%98%A0%E7%94%BB%E3%81%AE%E6%80%A5%E5%A2%97%E3%81%AF%E7%89%B9%E3%81%AB%E9%85%B7%E3%81%84%E3%80%82%E3%81%95%E3%82%8A%E3%81%92%E3%81%AA%E3%81%8F%E3%81%A0%E3%82%8D%E3%81%86%E3%81%8C%E3%80%81%E3%81%82%E3%81%8B%E3%82%89%E3%81%95%E3%81%BE%E3%81%A0%E3%82%8D%E3%81%86%E3%81%8C%E3%80%81%E3%83%8A%E3%83%81%E3%82%B9%E3%81%AF%E5%BE%B9%E5%BA%95%E7%9A%84%E3%81%AA%E6%82%AA%E3%81%A8%E3%81%97%E3%81%A6%E6%8F%8F%E3%81%8B%E3%82%8C%E3%82%8B%E6%98%A0%E7%94%BB%E3%82%92%E6%98%A0%E7%94%BB%E9%A4%A8%E3%81%A7%E8%A6%B3%E3%81%AA%E3%81%84%E6%9C%88%E3%81%8C%E3%81%AA%E3%81%84%E3%81%BB%E3%81%A9%E3%81%A0%E3%80%82%E3%83%8A%E3%83%81%E3%82%B9%E3%81%AE%E8%B2%A1%E5%AE%9D%E3%82%92%E9%9A%A0%E3%81%97%E3%81%9F%E6%9D%91%E3%81%AE%E4%BD%8F%E4%BA%BA%E3%82%92%E6%A3%AE%E3%81%AB%E9%80%A3%E3%82%8C%E3%81%A6%E8%A1%8C%E3%81%A3%E3%81%A6%E7%9A%86%E6%AE%BA%E3%81%97%E3%81%AB%E3%81%99%E3%82%8B%E3%82%B7%E3%83%BC%E3%83%B3%E3%81%8C%E3%81%82%E3%82%8B%E3%80%82%E3%81%95%E3%81%99%E3%81%8C%E3%81%AB%E6%9C%AC%E4%BD%9C%E3%81%AF%E5%A8%AF%E6%A5%BD%E4%BD%9C%E5%93%81%E3%81%AA%E3%81%AE%E3%81%A7%E7%9B%B4%E6%8E%A5%E7%9A%84%E3%81%AA%E8%99%90%E6%AE%BA%E3%81%AE%E6%8F%8F%E5%86%99%E3%81%AF%E9%81%BF%E3%81%91%E3%81%9F%E3%81%8C%E3%80%81%E4%BD%8F%E6%B0%91%E3%81%AE%E6%82%B2%E9%B3%B4%E3%81%A8%E6%A9%9F%E9%96%A2%E9%8A%83%E3%81%AE%E9%9F%B3%E3%80%81%E6%A3%AE%E3%81%AE%E6%9C%A8%E3%80%85%E3%81%8B%E3%82%89%E6%BC%8F%E3%82%8C%E3%82%8B%E5%85%89%E3%81%A7%E3%81%82%E3%81%8B%E3%82%89%E3%81%95%E3%81%BE%E3%81%AB%E3%81%9D%E3%82%8C%E3%81%8C%E3%82%8F%E3%81%8B%E3%82%8B%E3%82%88%E3%81%86%E3%81%AB%E3%81%AA%E3%81%A3%E3%81%A6%E3%81%84%E3%82%8B%E3%80%82%E8%BF%91%E5%B9%B4%E5%8F%8D%E3%83%8A%E3%83%81%E3%82%B9%E6%98%A0%E7%94%BB%E3%81%8C%E5%A4%9A%E3%81%84%E7%90%86%E7%94%B1%E3%82%92%E3%81%B5%E3%81%A8%E8%80%83%E3%81%88%E3%82%8B%E3%80%82%E3%81%82%E3%81%BE%E3%82%8A%E7%9F%A5%E3%82%89%E3%82%8C%E3%81%A6%E3%81%84%E3%81%AA%E3%81%84%E3%81%8C%E3%83%89%E3%82%A4%E3%83%84%E3%81%AE%E3%83%9E%E3%82%B9%E3%82%B3%E3%83%9F%E3%81%AF%E7%B5%90%E6%A7%8B%E5%B7%A6%E5%B7%BB%E3%81%8D%E3%81%A7%E3%81%82%E3%82%8B%E3%80%82%E3%81%9D%E3%81%97%E3%81%A6%E7%A7%BB%E6%B0%91%E3%82%92%E5%88%B6%E9%99%90%E3%81%97%E3%82%88%E3%81%86%E3%81%A8%E3%81%99%E3%82%8B%E6%94%BF%E5%85%9A%E3%80%8C%E3%83%89%E3%82%A4%E3%83%84%E3%81%AE%E3%81%9F%E3%82%81%E3%81%AE%E9%81%B8%E6%8A%9E%E8%82%A2%E3%80%8D%E3%81%AF%E3%80%8C%E3%83%8A%E3%83%81%E3%82%B9%E3%80%8D%E5%91%BC%E3%81%B0%E3%82%8F%E3%82%8A%E3%81%A7%E3%81%82%E3%82%8B%E3%80%82%E3%81%9F%E3%81%A0%E5%BD%BC%E3%82%89%E3%81%AB%E3%81%A8%E3%81%A3%E3%81%A6%E3%81%AF%E6%AE%8B%E5%BF%B5%E3%81%AA%E3%81%93%E3%81%A8%E3%81%AB%E3%81%93%E3%81%AE%E6%94%BF%E5%85%9A%E3%81%8C%E8%BF%91%E5%B9%B4%E6%94%AF%E6%8C%81%E7%8E%87%E3%82%92%E4%BC%B8%E3%81%B0%E3%81%97%E3%81%A6%E3%81%84%E3%82%8B%E3%80%82%E3%81%A4%E3%81%BE%E3%82%8A%E3%83%9E%E3%82%B9%E3%82%B3%E3%83%9F%E3%81%AE%E8%AB%96%E8%AA%BF%E3%81%A8%E4%B8%80%E8%88%AC%E5%A4%A7%E8%A1%86%E3%81%AE%E6%84%8F%E8%A6%8B%E3%81%8C%E4%B9%96%E9%9B%A2%E3%81%97%E5%A7%8B%E3%82%81%E3%81%A6%E3%81%84%E3%82%8B%E3%80%82%E3%81%BE%E3%82%8B%E3%81%A7%E6%88%91%E3%81%8C%E5%9B%BD%E3%81%A8%E4%BC%BC%E3%81%9F%E3%82%88%E3%81%86%E3%81%AA%E7%8F%BE%E8%B1%A1%E3%81%A7%E3%81%82%E3%82%8B%E3%80%82%E3%81%9D%E3%81%97%E3%81%A6%E3%81%93%E3%81%AE%E3%83%89%E3%82%A4%E3%83%84%E6%B0%91%E8%A1%86%E3%81%AE%E7%9B%AE%E8%A6%9A%E3%82%81%E3%81%AB%E5%8D%B1%E6%A9%9F%E6%84%9F%E3%82%92%E6%8A%B1%E3%81%84%E3%81%A6%E3%81%84%E3%82%8B%E8%B3%87%E6%9C%AC%E5%AE%B6%E3%81%9F%E3%81%A1%E3%81%8C%E3%83%8F%E3%83%AA%E3%82%A6%E3%83%83%E3%83%89%E3%82%84%E6%AC%A7%E7%B1%B3%E3%81%AE%E6%98%A0%E7%94%BB%E6%A5%AD%E7%95%8C%E3%81%AB%E8%B3%87%E9%87%91%E6%8F%90%E4%BE%9B%E3%81%97%E3%81%A6%E3%81%93%E3%81%AE%E6%89%8B%E3%81%AE%E6%98%A0%E7%94%BB%E3%82%92%E5%88%B6%E4%BD%9C%E3%81%95%E3%81%9B%E3%81%A6%E3%81%84%E3%82%8B%E3%81%AE%E3%81%A7%E3%81%AF%E3%81%AA%E3%81%84%E3%81%8B%EF%BC%9F%E3%81%A8%E3%81%84%E3%81%86%E3%81%AE%E3%81%8C%E7%AD%86%E8%80%85%E3%81%AE%E8%A6%8B%E7%AB%8B%E3%81%A6%E3%81%A7%E3%81%82%E3%82%8B%E3%80%8220%E4%B8%96%E7%B4%80%E3%81%AB%E5%85%A5%E3%81%A3%E3%81%A6%E3%81%8B%E3%82%89%EF%BC%92%E5%BA%A6%E3%82%82%E6%88%A6%E4%BA%89%E3%82%92%E8%B5%B7%E3%81%93%E3%81%99%E5%9B%BD%E5%8A%9B%E3%81%8C%E3%81%82%E3%82%8A%E3%80%81%E4%BA%8C%E6%AC%A1%E5%A4%A7%E6%88%A6%E5%BE%8C%E3%82%82%E3%83%A8%E3%83%BC%E3%83%AD%E3%83%83%E3%83%91%E3%81%A7%E4%B8%80%E7%95%AA%E7%B5%8C%E6%B8%88%E5%8A%9B%E3%81%8C%E3%81%82%E3%82%8B%E3%81%AE%E3%81%AF%E7%B5%90%E5%B1%80%E3%83%89%E3%82%A4%E3%83%84%E3%81%A7%E3%81%82%E3%82%8B%E3%80%82%E3%81%82%E3%82%8B%E6%84%8F%E5%91%B3EU%E3%81%A8%E3%81%84%E3%81%86%E7%B5%84%E7%B9%94%E3%81%AF%E3%81%9D%E3%82%93%E3%81%AA%E3%83%89%E3%82%A4%E3%83%84%E3%82%92%E5%B0%81%E3%81%98%E8%BE%BC%E3%82%81%E3%82%8B%E3%81%9F%E3%82%81%E3%81%AE%E6%89%8B%E6%AE%B5%E3%81%A7%E3%81%82%E3%82%8B%E3%80%82%E3%82%A4%E3%82%AE%E3%83%AA%E3%82%B9%E3%81%AEEU%E9%9B%A2%E8%84%B1%E3%81%AB%E5%A7%8B%E3%81%BE%E3%82%8AEU%E8%87%AA%E4%BD%93%E3%81%AE%E5%AD%98%E7%B6%9A%E3%82%82%E5%8D%B1%E3%81%B6%E3%81%BE%E3%82%8C%E3%82%8B%E6%98%A8%E4%BB%8A%E3%81%A8%E3%81%AB%E3%81%8B%E3%81%8F%E3%83%89%E3%82%A4%E3%83%84%E3%82%92%E5%B0%81%E3%81%98%E8%BE%BC%E3%82%81%E3%81%9F%E3%81%84%E3%81%AE%E3%81%A0%E3%82%8D%E3%81%86%E3%80%82%E6%9C%AC%E4%BD%9C%E3%81%AF%E3%83%89%E3%82%A4%E3%83%84%E8%87%AA%E4%BD%93%E3%81%A7%E3%81%AF%E4%B8%8A%E6%98%A0%E3%81%95%E3%82%8C%E3%81%A6%E3%81%84%E3%81%AA%E3%81%84%E5%8F%AF%E8%83%BD%E6%80%A7%E3%82%82%E9%AB%98%E3%81%84%E3%81%AE%E3%81%A7%E3%80%81%E3%81%9D%E3%82%8C%E4%BB%A5%E5%A4%96%E3%81%AE%E5%9B%BD%E3%81%AB%E3%83%89%E3%82%A4%E3%83%84%E3%81%AF%E3%81%8B%E3%81%A4%E3%81%A6%E6%82%AA%E3%81%84%E3%81%93%E3%81%A8%E3%82%92%E3%81%97%E3%81%9F%E3%81%A8%E5%90%B9%E3%81%8D%E8%BE%BC%E3%81%BF%E3%81%9F%E3%81%84%E3%81%AE%E3%81%A0%E3%80%82%E3%81%9D%E3%81%97%E3%81%A6%E3%81%93%E3%81%93%E3%81%8C%E9%87%8D%E8%A6%81%E3%81%AA%E3%81%AE%E3%81%A0%E3%81%8C%E3%80%81%E6%9C%80%E7%B5%82%E7%9A%84%E3%81%AB%E3%81%AF%E3%82%A2%E3%83%A1%E3%83%AA%E3%82%AB%E6%A7%98%E3%81%8C%E8%A7%A3%E6%B1%BA%E3%81%97%E3%81%A6%E3%81%82%E3%81%92%E3%82%8B%E3%81%AE%E3%81%A7%E3%81%82%E3%82%8B%E3%80%82%E6%9E%B6%E7%A9%BA%E3%81%AE%E5%A8%AF%E6%A5%BD%E4%BD%9C%E5%93%81%E3%81%A8%E3%81%AF%E8%A8%80%E3%81%88%E3%80%81%E4%B8%8A%E8%A8%98%E3%81%AE%E4%B8%80%E9%80%A3%E3%81%AE%E5%88%B7%E3%82%8A%E8%BE%BC%E3%81%BF%E3%81%AB%E3%81%AF%E6%B0%97%E3%82%92%E3%81%A4%E3%81%91%E3%81%9F%E6%96%B9%E3%81%8C%E8%89%AF%E3%81%84%E3%80%82%E3%81%AA%E3%81%8A%E6%97%A5%E6%9C%AC%E3%81%A7%E3%81%AF%E4%B8%8A%E6%98%A0%E3%81%95%E3%82%8C%E3%81%AA%E3%81%84%E3%81%9F%E3%82%81%E3%81%AB%E6%88%91%E3%80%85%E3%81%8C%E7%9F%A5%E3%82%89%E3%81%AA%E3%81%84%E3%81%A0%E3%81%91%E3%81%A7%E3%80%81%E3%83%81%E3%83%A3%E3%82%A4%E3%83%8A%E8%B3%87%E6%9C%AC%E3%81%A8%E7%B5%90%E8%A8%97%E3%81%97%E3%81%A6%E6%97%A5%E6%9C%AC%E3%82%92%E6%82%AA%E8%80%85%E3%81%AB%E3%81%97%E3%81%9F%E6%98%A0%E7%94%BB%E3%81%8C%E3%83%8F%E3%83%AA%E3%82%A6%E3%83%83%E3%83%89%E3%81%A7%E5%A2%97%E3%81%88%E3%81%A6%E3%81%84%E3%82%8B%E5%8F%AF%E8%83%BD%E6%80%A7%E3%82%82%E3%81%82%E3%82%8B%E3%80%82%E3%82%82%E3%81%A1%E3%82%8D%E3%82%93%E3%83%81%E3%83%A3%E3%82%A4%E3%83%8A%E3%81%A8%E9%9F%93%E5%9B%BD%E3%81%A7%E3%81%AF%E5%8F%8D%E6%97%A5%E6%98%A0%E7%94%BB%E3%81%AF%E5%89%B5%E3%82%89%E3%82%8C%E7%B6%9A%E3%81%91%E3%81%A6%E3%81%84%E3%82%8B%E3%81%8C%E3%80%81%E3%81%93%E3%82%8C%E3%82%82%E5%BD%BC%E3%82%89%E3%81%8C%E7%84%A6%E3%81%A3%E3%81%A6%E3%81%84%E3%82%8B%E3%81%A8%E8%A6%8B%E3%82%8B%E3%81%93%E3%81%A8%E3%82%82%E3%81%A7%E3%81%8D%E3%82%8B%E3%80%82%E6%97%A5%E6%9C%AC%E4%BA%BA%E3%81%8C%E6%88%A6%E5%BE%8C%E5%8F%B2%E8%A6%B3%E3%81%8B%E3%82%89%E7%9B%AE%E8%A6%9A%E3%82%81%E3%81%A4%E3%81%A4%E3%81%82%E3%82%8A%E3%80%81%E4%BB%A5%E5%89%8D%E3%81%AE%E3%82%88%E3%81%86%E3%81%AB%E3%81%B8%E3%81%84%E3%81%93%E3%82%89%E3%81%A8%E9%A0%AD%E3%82%92%E4%B8%8B%E3%81%92%E3%81%AA%E3%81%8F%E3%81%AA%E3%82%8A%E3%80%81%E5%A0%B4%E5%90%88%E3%81%AB%E3%82%88%E3%81%A3%E3%81%A6%E3%81%AF%E5%8F%8D%E8%AB%96%E3%81%97%E5%87%BA%E3%81%97%E3%81%A6%E3%81%84%E3%82%8B%E3%80%82%E6%AE%8B%E5%BF%B5%E3%81%AA%E3%81%8C%E3%82%89%E5%BD%BC%E3%82%89%E3%81%AF%E3%81%93%E3%82%8C%E3%81%8B%E3%82%89%E3%81%AF%E3%82%82%E3%81%A3%E3%81%A8%E7%84%A6%E3%82%8B%E3%81%93%E3%81%A8%E3%81%AB%E3%81%AA%E3%82%8B%E3%81%A0%E3%82%8D%E3%81%86%E3%81%91%E3%81%A9%E3%81%AD%E3%80%82%E3%81%BE%E3%81%9F%E6%9C%AC%E4%BD%9C%E3%81%AF%E6%95%B5%E3%81%AF%E3%82%BB%E3%83%AB%E3%83%93%E3%82%A2%E8%BB%8D%E3%81%A7%E3%81%82%E3%82%8A%E3%80%81%E3%83%8A%E3%83%81%E3%82%B9%E3%81%A8%E5%90%8C%E6%99%82%E3%81%AB%E3%82%BB%E3%83%AB%E3%83%93%E3%82%A2%E3%82%82%E6%82%AA%E8%80%85%E3%81%AB%E3%81%97%E3%81%A6%E3%81%84%E3%82%8B%E3%80%82%E3%83%A6%E3%83%BC%E3%82%B4%E3%82%B9%E3%83%A9%E3%83%93%E3%82%A2%E5%B4%A9%E5%A3%8A%E5%BE%8C%E3%82%A2%E3%83%A1%E3%83%AA%E3%82%AB%E3%82%92%E4%B8%AD%E5%BF%83%E3%81%A8%E3%81%97%E3%81%9FNATO%E3%81%AF%E3%82%AB%E3%82%BD%E3%83%AA%E3%83%83%E3%82%AF%E3%81%A7%E3%81%AF%E3%81%AA%E3%81%8F%E6%9D%B1%E6%96%B9%E6%95%99%E4%BC%9A%E3%81%AE%E3%82%BB%E3%83%AB%E3%83%93%E3%82%A2%E3%82%92%E3%81%95%E3%82%93%E3%81%96%E3%82%93%E3%81%AB%E3%81%84%E3%81%98%E3%82%81%E3%81%9F%E3%80%82%E3%82%80%E3%81%97%E3%82%8D%E3%82%BB%E3%83%AB%E3%83%93%E3%82%A2%E4%BA%BA%E3%81%AB%E5%AF%BE%E3%81%97%E3%81%A6%E5%A4%A7%E9%87%8F%E8%99%90%E6%AE%BA%E3%82%92%E3%82%84%E3%81%A3%E3%81%A6%E3%81%8D%E3%81%9F%E3%81%AE%E3%81%AFNATO%E5%81%B4%E3%81%A7%E3%81%82%E3%82%8A%E3%80%81%E6%9C%AC%E4%BD%9C%E3%81%AE%E6%8F%8F%E5%86%99%E3%82%82%E3%81%9D%E3%82%8C%E3%82%92%E7%9F%A5%E3%82%89%E3%82%93%E3%81%B7%E3%82%8A%E3%81%97%E3%81%A6%E3%82%BB%E3%83%AB%E3%83%93%E3%82%A2%E3%82%92%E6%82%AA%E8%80%85%E3%81%AB%E3%81%97%E3%81%9F%E3%81%84%E5%88%B7%E3%82%8A%E8%BE%BC%E3%81%BF%E3%81%A0%E3%82%8D%E3%81%86%E3%80%82%E6%98%A0%E7%94%BB%E3%81%AE%E5%86%85%E5%AE%B9%E8%87%AA%E4%BD%93%E3%81%AF%E3%81%A9%E3%81%86%E3%81%A7%E3%82%82%E3%81%84%E3%81%84%E6%98%A0%E7%94%BB%E3%81%AA%E3%81%AE%E3%81%A7%E7%89%B9%E3%81%AB%E8%AA%9E%E3%82%8B%E3%81%B9%E3%81%8D%E3%82%82%E3%81%AE%E3%81%AF%E4%BD%95%E3%82%82%E3%81%AA%E3%81%84%E3%80%82%E3%81%A0%E3%81%8B%E3%82%89%E3%81%93%E3%81%9D%E3%81%93%E3%81%AE%E6%89%8B%E3%81%AE%E6%98%A0%E7%94%BB%E3%81%AB%E5%90%AB%E3%81%BE%E3%82%8C%E3%82%8B%E5%82%B2%E6%85%A2%E3%81%AA%E6%88%A6%E5%8B%9D%E5%9B%BD%E5%8F%B2%E8%A6%B3%E3%82%84%E8%BA%AB%E5%8B%9D%E6%89%8B%E3%81%AA%E6%94%BF%E6%B2%BB%E7%9A%84%E8%A6%96%E7%82%B9%E3%81%AB%E3%81%AFNO%E3%82%92%E7%AA%81%E3%81%8D%E4%BB%98%E3%81%91%E3%81%AA%E3%81%91%E3%82%8C%E3%81%B0%E3%81%84%E3%81%91%E3%81%AA%E3%81%84%E3%80%82%E3%81%BE%E3%81%9F%E9%87%91%E3%81%AE%E3%81%9F%E3%82%81%E3%81%AF%E3%81%84%E3%81%88%E3%81%93%E3%81%86%E3%81%84%E3%81%86%E6%98%A0%E7%94%BB%E3%82%92%E5%89%B5%E3%82%8B%E5%88%B6%E4%BD%9C%E8%80%85%E3%81%9F%E3%81%A1%E3%81%AF%E6%81%A5%E3%82%92%E7%9F%A5%E3%82%8B%E3%81%B9%E3%81%8D%E3%81%A7%E3%81%82%E3%82%8B%E3%80%82%E8%BF%91%E3%81%84%E5%B0%86%E6%9D%A5%E6%88%A6%E5%8B%9D%E5%9B%BD%E5%8F%B2%E8%A6%B3%E3%82%82%E5%A3%8A%E3%82%8C%E3%82%8B%E3%81%A8%E6%80%9D%E3%81%A3%E3%81%A6%E3%81%84%E3%82%8B%E3%80%82: <!DOCTYPE html>\n<html lang=en>\n  <meta charset=utf-8>\n  <meta name=viewport content=\"initial-scale=1, minimum-scale=1, width=device-width\">\n  <title>Error 411 (Length Required)!!1</title>\n  <style>\n    *{margin:0;padding:0}html,code{font:15px/22px arial,sans-serif}html{background:#fff;color:#222;padding:15px}body{margin:7% auto 0;max-width:390px;min-height:180px;padding:30px 0 15px}* > body{background:url(//www.google.com/images/errors/robot.png) 100% 5px no-repeat;padding-right:205px}p{margin:11px 0 22px;overflow:hidden}ins{color:#777;text-decoration:none}a img{border:0}@media screen and (max-width:772px){body{background:none;margin-top:0;max-width:none;padding-right:0}}#logo{background:url(//www.google.com/images/branding/googlelogo/1x/googlelogo_color_150x54dp.png) no-repeat;margin-left:-5px}@media only screen and (min-resolution:192dpi){#logo{background:url(//www.google.com/images/branding/googlelogo/2x/googlelogo_color_150x54dp.png) no-repeat 0% 0%/100% 100%;-moz-border-image:url(//www.google.com/images/branding/googlelogo/2x/googlelogo_color_150x54dp.png) 0}}@media only screen and (-webkit-min-device-pixel-ratio:2){#logo{background:url(//www.google.com/images/branding/googlelogo/2x/googlelogo_color_150x54dp.png) no-repeat;-webkit-background-size:100% 100%}}#logo{display:inline-block;height:54px;width:150px}\n  </style>\n  <a href=//www.google.com/><span id=logo aria-label=Google></span></a>\n  <p><b>411.</b> <ins>That’s an error.</ins>\n  <p>POST requests require a <code>Content-length</code> header.  <ins>That’s all we know.</ins>\n"
     ]
    }
   ],
   "source": [
    "data = gcloud_nltk.main()"
   ]
  },
  {
   "cell_type": "code",
   "execution_count": 3,
   "metadata": {},
   "outputs": [
    {
     "data": {
      "text/plain": [
       "[(1748775, magnitude: 0.6000000238418579\n",
       "  score: 0.10000000149011612), (1732090, magnitude: 1.5\n",
       "  score: -0.699999988079071), (1733176, magnitude: 3.9000000953674316\n",
       "  score: -0.10000000149011612), (1737385, magnitude: 1.899999976158142\n",
       "  score: -0.10000000149011612), (1724947, magnitude: 0.5\n",
       "  score: 0.5), (1728053, magnitude: 2.0999999046325684\n",
       "  score: -0.20000000298023224), (1734389, magnitude: 3.0999999046325684\n",
       "  score: -0.10000000149011612), (1725569,\n",
       "  magnitude: 0.4000000059604645), (1732042, magnitude: 7.599999904632568), (1732095,\n",
       "  magnitude: 0.800000011920929\n",
       "  score: -0.800000011920929)]"
      ]
     },
     "execution_count": 3,
     "metadata": {},
     "output_type": "execute_result"
    }
   ],
   "source": [
    "data"
   ]
  },
  {
   "cell_type": "code",
   "execution_count": 7,
   "metadata": {},
   "outputs": [
    {
     "data": {
      "text/plain": [
       "0.10000000149011612"
      ]
     },
     "execution_count": 7,
     "metadata": {},
     "output_type": "execute_result"
    }
   ],
   "source": []
  },
  {
   "cell_type": "code",
   "execution_count": null,
   "metadata": {},
   "outputs": [],
   "source": []
  }
 ],
 "metadata": {
  "kernelspec": {
   "display_name": "Python 3",
   "language": "python",
   "name": "python3"
  },
  "language_info": {
   "codemirror_mode": {
    "name": "ipython",
    "version": 3
   },
   "file_extension": ".py",
   "mimetype": "text/x-python",
   "name": "python",
   "nbconvert_exporter": "python",
   "pygments_lexer": "ipython3",
   "version": "3.6.3"
  }
 },
 "nbformat": 4,
 "nbformat_minor": 2
}
