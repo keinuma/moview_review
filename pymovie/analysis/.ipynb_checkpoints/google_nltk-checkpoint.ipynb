{
 "cells": [
  {
   "cell_type": "markdown",
   "metadata": {},
   "source": [
    "# GCPを用いた日本語感情分析\n",
    "## 英語から日本語への翻訳"
   ]
  },
  {
   "cell_type": "code",
   "execution_count": 1,
   "metadata": {},
   "outputs": [],
   "source": [
    "from google.cloud import translate"
   ]
  },
  {
   "cell_type": "code",
   "execution_count": 2,
   "metadata": {},
   "outputs": [],
   "source": [
    "client = translate.Client()"
   ]
  },
  {
   "cell_type": "code",
   "execution_count": 3,
   "metadata": {},
   "outputs": [],
   "source": [
    "text = \"Hello world !\"\n",
    "target = \"ja\""
   ]
  },
  {
   "cell_type": "code",
   "execution_count": 4,
   "metadata": {},
   "outputs": [],
   "source": [
    "translation = client.translate(text, target_language=target)"
   ]
  },
  {
   "cell_type": "code",
   "execution_count": 5,
   "metadata": {},
   "outputs": [
    {
     "data": {
      "text/plain": [
       "{'detectedSourceLanguage': 'en',\n",
       " 'input': 'Hello world !',\n",
       " 'translatedText': 'こんにちは世界 ！'}"
      ]
     },
     "execution_count": 5,
     "metadata": {},
     "output_type": "execute_result"
    }
   ],
   "source": [
    "translation"
   ]
  },
  {
   "cell_type": "code",
   "execution_count": 27,
   "metadata": {},
   "outputs": [],
   "source": [
    "text2 = \"ストーリーはよかったけど、演技はだめ\"\n",
    "target2 = \"en\""
   ]
  },
  {
   "cell_type": "code",
   "execution_count": 28,
   "metadata": {},
   "outputs": [],
   "source": [
    "translation2 = client.translate(text2, target2)"
   ]
  },
  {
   "cell_type": "code",
   "execution_count": 29,
   "metadata": {},
   "outputs": [
    {
     "data": {
      "text/plain": [
       "{'detectedSourceLanguage': 'ja',\n",
       " 'input': 'ストーリーはよかったけど、演技はだめ',\n",
       " 'translatedText': 'The story was nice, but acting was useless'}"
      ]
     },
     "execution_count": 29,
     "metadata": {},
     "output_type": "execute_result"
    }
   ],
   "source": [
    "translation2"
   ]
  },
  {
   "cell_type": "markdown",
   "metadata": {},
   "source": [
    "## 英語の感情分析\n"
   ]
  },
  {
   "cell_type": "code",
   "execution_count": 30,
   "metadata": {},
   "outputs": [],
   "source": [
    "from google.cloud import language"
   ]
  },
  {
   "cell_type": "code",
   "execution_count": 31,
   "metadata": {},
   "outputs": [],
   "source": [
    "client_lan = language.LanguageServiceClient()"
   ]
  },
  {
   "cell_type": "code",
   "execution_count": 32,
   "metadata": {},
   "outputs": [],
   "source": [
    "document = language.types.Document(content=translation2[\"translatedText\"], language=\"en\", type=\"PLAIN_TEXT\")"
   ]
  },
  {
   "cell_type": "code",
   "execution_count": 33,
   "metadata": {},
   "outputs": [
    {
     "data": {
      "text/plain": [
       "type: PLAIN_TEXT\n",
       "content: \"The story was nice, but acting was useless\"\n",
       "language: \"en\""
      ]
     },
     "execution_count": 33,
     "metadata": {},
     "output_type": "execute_result"
    }
   ],
   "source": [
    "document"
   ]
  },
  {
   "cell_type": "code",
   "execution_count": 34,
   "metadata": {},
   "outputs": [],
   "source": [
    "response = client_lan.analyze_entity_sentiment(document=document)"
   ]
  },
  {
   "cell_type": "code",
   "execution_count": 53,
   "metadata": {},
   "outputs": [
    {
     "data": {
      "text/plain": [
       "[name: \"story\"\n",
       "type: WORK_OF_ART\n",
       "salience: 0.8772229552268982\n",
       "mentions {\n",
       "  text {\n",
       "    content: \"story\"\n",
       "    begin_offset: -1\n",
       "  }\n",
       "  type: COMMON\n",
       "  sentiment {\n",
       "    magnitude: 0.8999999761581421\n",
       "    score: 0.8999999761581421\n",
       "  }\n",
       "}\n",
       "sentiment {\n",
       "  magnitude: 0.8999999761581421\n",
       "  score: 0.8999999761581421\n",
       "}\n",
       ", name: \"acting\"\n",
       "type: OTHER\n",
       "salience: 0.1227770522236824\n",
       "mentions {\n",
       "  text {\n",
       "    content: \"acting\"\n",
       "    begin_offset: -1\n",
       "  }\n",
       "  type: COMMON\n",
       "  sentiment {\n",
       "    magnitude: 0.8999999761581421\n",
       "    score: -0.8999999761581421\n",
       "  }\n",
       "}\n",
       "sentiment {\n",
       "  magnitude: 0.8999999761581421\n",
       "  score: -0.8999999761581421\n",
       "}\n",
       "]"
      ]
     },
     "execution_count": 53,
     "metadata": {},
     "output_type": "execute_result"
    }
   ],
   "source": [
    "data = response.entities\n",
    "data"
   ]
  },
  {
   "cell_type": "code",
   "execution_count": 52,
   "metadata": {},
   "outputs": [
    {
     "data": {
      "text/plain": [
       "name: \"story\"\n",
       "type: WORK_OF_ART\n",
       "salience: 0.8772229552268982\n",
       "mentions {\n",
       "  text {\n",
       "    content: \"story\"\n",
       "    begin_offset: -1\n",
       "  }\n",
       "  type: COMMON\n",
       "  sentiment {\n",
       "    magnitude: 0.8999999761581421\n",
       "    score: 0.8999999761581421\n",
       "  }\n",
       "}\n",
       "sentiment {\n",
       "  magnitude: 0.8999999761581421\n",
       "  score: 0.8999999761581421\n",
       "}"
      ]
     },
     "execution_count": 52,
     "metadata": {},
     "output_type": "execute_result"
    }
   ],
   "source": [
    "story = data[0]\n",
    "story"
   ]
  },
  {
   "cell_type": "code",
   "execution_count": null,
   "metadata": {},
   "outputs": [],
   "source": []
  }
 ],
 "metadata": {
  "kernelspec": {
   "display_name": "Python 3",
   "language": "python",
   "name": "python3"
  },
  "language_info": {
   "codemirror_mode": {
    "name": "ipython",
    "version": 3
   },
   "file_extension": ".py",
   "mimetype": "text/x-python",
   "name": "python",
   "nbconvert_exporter": "python",
   "pygments_lexer": "ipython3",
   "version": "3.6.3"
  }
 },
 "nbformat": 4,
 "nbformat_minor": 2
}
