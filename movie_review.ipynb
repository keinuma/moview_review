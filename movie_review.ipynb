{
 "cells": [
  {
   "cell_type": "code",
   "execution_count": 1,
   "metadata": {
    "collapsed": true
   },
   "outputs": [],
   "source": [
    "import requests\n",
    "from bs4 import BeautifulSoup"
   ]
  },
  {
   "cell_type": "code",
   "execution_count": 2,
   "metadata": {
    "collapsed": true
   },
   "outputs": [],
   "source": [
    "base_url = \"http://eiga.com/movie/review/ranking\"\n",
    "s = requests.Session()\n",
    "response = s.get(base_url)"
   ]
  },
  {
   "cell_type": "code",
   "execution_count": 3,
   "metadata": {
    "collapsed": true
   },
   "outputs": [],
   "source": [
    "soup = BeautifulSoup(response.text, \"html5lib\")"
   ]
  },
  {
   "cell_type": "code",
   "execution_count": 4,
   "metadata": {
    "collapsed": true
   },
   "outputs": [],
   "source": [
    "class MovieInfo(object):\n",
    "    def __init__(self, code, rank, name, date):\n",
    "            self.code = code\n",
    "            self.rank = rank\n",
    "            self.name = name\n",
    "            self.date = date\n",
    "    \n",
    "    def __repr__(self):\n",
    "        return \"This movie code is {}, rank is {}, name is {}, date is {}\".format(self.code, self.rank, self.name, self.date)"
   ]
  },
  {
   "cell_type": "code",
   "execution_count": 5,
   "metadata": {},
   "outputs": [
    {
     "name": "stdout",
     "output_type": "stream",
     "text": [
      "This movie code is 85393, rank is 1, name is ブレードランナー 2049, date is 劇場公開日：2017年10月27日\n",
      "This movie code is 86516, rank is 2, name is ミックス。, date is 劇場公開日：2017年10月21日\n",
      "This movie code is 84136, rank is 3, name is マイティ・ソー　バトルロイヤル, date is 劇場公開日：2017年11月3日\n",
      "This movie code is 86213, rank is 4, name is IT イット　“それ”が見えたら、終わり。, date is 劇場公開日：2017年11月3日\n",
      "This movie code is 86616, rank is 5, name is アトミック・ブロンド, date is 劇場公開日：2017年10月20日\n",
      "This movie code is 85316, rank is 6, name is ラストレシピ　麒麟の舌の記憶, date is 劇場公開日：2017年11月3日\n",
      "This movie code is 86389, rank is 7, name is バリー・シール　アメリカをはめた男, date is 劇場公開日：2017年10月21日\n",
      "This movie code is 85402, rank is 8, name is 斉木楠雄のΨ難, date is 劇場公開日：2017年10月21日\n",
      "This movie code is 86610, rank is 9, name is ゲット・アウト, date is 劇場公開日：2017年10月27日\n",
      "This movie code is 86417, rank is 10, name is 彼女がその名を知らない鳥たち, date is 劇場公開日：2017年10月28日\n",
      "This movie code is 86144, rank is 11, name is 猿の惑星：聖戦記（グレート・ウォー）, date is 劇場公開日：2017年10月13日\n",
      "This movie code is 86688, rank is 12, name is 女神の見えざる手, date is 劇場公開日：2017年10月20日\n",
      "This movie code is 85890, rank is 13, name is 先生！　、、、好きになってもいいですか？, date is 劇場公開日：2017年10月28日\n",
      "This movie code is 85297, rank is 14, name is ナラタージュ, date is 劇場公開日：2017年10月7日\n",
      "This movie code is 86262, rank is 15, name is ドリーム, date is 劇場公開日：2017年9月29日\n",
      "This movie code is 86992, rank is 16, name is ザ・サークル, date is 劇場公開日：2017年11月10日\n",
      "This movie code is 86080, rank is 17, name is アウトレイジ　最終章, date is 劇場公開日：2017年10月7日\n",
      "This movie code is 86989, rank is 18, name is あゝ、荒野　後篇, date is 劇場公開日：2017年10月21日\n",
      "This movie code is 86040, rank is 19, name is 氷菓, date is 劇場公開日：2017年11月3日\n",
      "This movie code is 85936, rank is 20, name is 亜人, date is 劇場公開日：2017年9月30日\n",
      "This movie code is 86139, rank is 21, name is ノクターナル・アニマルズ, date is 劇場公開日：2017年11月3日\n",
      "This movie code is 84639, rank is 22, name is 劇場版 Fate/stay night Heaven's Feel I. presage flower, date is 劇場公開日：2017年10月14日\n",
      "This movie code is 87492, rank is 23, name is ジグソウ　ソウ・レガシー, date is 劇場公開日：2017年11月10日\n",
      "This movie code is 86232, rank is 24, name is HiGH&LOW THE MOVIE 3 FINAL MISSION, date is 劇場公開日：2017年11月11日\n",
      "This movie code is 86388, rank is 25, name is 僕のワンダフル・ライフ, date is 劇場公開日：2017年9月29日\n",
      "This movie code is 85583, rank is 26, name is メッセージ, date is 劇場公開日：2017年5月19日\n",
      "This movie code is 85496, rank is 27, name is GODZILLA 怪獣惑星, date is 劇場公開日：2017年11月17日\n",
      "This movie code is 87342, rank is 28, name is ゴッホ　最期の手紙, date is 劇場公開日：2017年11月3日\n",
      "This movie code is 85352, rank is 29, name is あゝ、荒野　前篇, date is 劇場公開日：2017年10月7日\n",
      "This movie code is 85608, rank is 30, name is 君の膵臓をたべたい（2017）, date is 劇場公開日：2017年7月28日\n",
      "This movie code is 86090, rank is 31, name is ナミヤ雑貨店の奇蹟, date is 劇場公開日：2017年9月23日\n",
      "This movie code is 84001, rank is 32, name is ダンケルク, date is 劇場公開日：2017年9月9日\n",
      "This movie code is 86261, rank is 33, name is 三度目の殺人, date is 劇場公開日：2017年9月9日\n",
      "This movie code is 53062, rank is 34, name is ブレードランナー　ファイナル・カット, date is 劇場公開日：2017年10月13日\n",
      "This movie code is 86060, rank is 35, name is コードギアス　反逆のルルーシュI 興道, date is 劇場公開日：2017年10月21日\n",
      "This movie code is 86078, rank is 36, name is ユリゴコロ, date is 劇場公開日：2017年9月23日\n",
      "This movie code is 87579, rank is 37, name is ゆらり, date is 劇場公開日：2017年11月4日\n",
      "This movie code is 86771, rank is 38, name is DCスーパーヒーローズ vs 鷹の爪団, date is 劇場公開日：2017年10月21日\n",
      "This movie code is 87503, rank is 39, name is セブン・シスターズ, date is 劇場公開日：2017年10月21日\n",
      "This movie code is 85298, rank is 40, name is 22年目の告白　私が殺人犯です, date is 劇場公開日：2017年6月10日\n",
      "This movie code is 87538, rank is 41, name is 婚約者の友人, date is 劇場公開日：2017年10月21日\n",
      "This movie code is 85042, rank is 42, name is 劇場版　はいからさんが通る　前編 　紅緒、花の17歳, date is 劇場公開日：2017年11月11日\n",
      "This movie code is 86003, rank is 43, name is パターソン, date is 劇場公開日：2017年8月26日\n",
      "This movie code is 87055, rank is 44, name is おじいちゃん、死んじゃったって。, date is 劇場公開日：2017年11月4日\n",
      "This movie code is 86211, rank is 45, name is アナベル　死霊人形の誕生, date is 劇場公開日：2017年10月13日\n",
      "This movie code is 87525, rank is 46, name is シンクロナイズドモンスター, date is 劇場公開日：2017年11月3日\n",
      "This movie code is 87237, rank is 47, name is ベイビー・ドライバー, date is 劇場公開日：2017年8月19日\n",
      "This movie code is 87352, rank is 48, name is 宇宙戦艦ヤマト2202 愛の戦士たち　第三章「純愛篇」, date is 劇場公開日：2017年10月14日\n",
      "This movie code is 82349, rank is 49, name is ワンダーウーマン, date is 劇場公開日：2017年8月25日\n",
      "This movie code is 83604, rank is 50, name is エイリアン　コヴェナント, date is 劇場公開日：2017年9月15日\n"
     ]
    }
   ],
   "source": [
    "result = []\n",
    "for page_num in range(1, 6):\n",
    "    url = base_url + \"/\" + str(page_num)\n",
    "    response = s.get(url)\n",
    "    rankBoxes = BeautifulSoup(response.text, \"html5lib\").find_all(\"div\", class_=\"rankBox\")\n",
    "    for rankBox in rankBoxes:\n",
    "        h4 = rankBox.find(\"h4\")\n",
    "        rank = h4.span.text\n",
    "        name = h4.a.text\n",
    "        code = h4.a.get(\"href\").split(\"/\")[2]\n",
    "        date = rankBox.p.text\n",
    "        movie = MovieInfo(code, rank, name, date)\n",
    "        result.append(movie)\n",
    "        print(movie)"
   ]
  },
  {
   "cell_type": "code",
   "execution_count": null,
   "metadata": {
    "collapsed": true
   },
   "outputs": [],
   "source": []
  }
 ],
 "metadata": {
  "kernelspec": {
   "display_name": "Python 3",
   "language": "python",
   "name": "python3"
  },
  "language_info": {
   "codemirror_mode": {
    "name": "ipython",
    "version": 3
   },
   "file_extension": ".py",
   "mimetype": "text/x-python",
   "name": "python",
   "nbconvert_exporter": "python",
   "pygments_lexer": "ipython3",
   "version": "3.6.1"
  }
 },
 "nbformat": 4,
 "nbformat_minor": 2
}
